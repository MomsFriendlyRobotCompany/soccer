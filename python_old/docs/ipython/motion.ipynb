{
 "cells": [
  {
   "cell_type": "markdown",
   "metadata": {},
   "source": [
    "# Holonomic Robot\n",
    "\n",
    "![](pics/holonomic_robot.png)\n",
    "\n",
    "**need to fix formatting**\n",
    "\n",
    "Robots come in a variety of types and configurations: wheeled, tracked, legs, flying, etc. Common wheeled robots typically have two wheels (directly driven) with a caster wheel to make the robot stable. There are some without the caster wheel and employ a control system to keep them upright (inverted pendulum\n",
    "problem) and resemble a Segway scooter. All of these two wheeled robot are\n",
    "non-holonomic systems.\n",
    "\n",
    "A **nonholonomic system** in physics and mathematics is a system whose state depends on the path taken in order to achieve it. A car is a typical example of a nonholonomic system. It can occupy any location (x,y) in any orientation ($\\phi$), but the path from one location/orientation to another position/orientation is not always linear. Thus you have to parallel park.\n",
    "\n",
    "A **holonomic system** is not constrained by this. Thus it can move anywhere at will. "
   ]
  },
  {
   "cell_type": "code",
   "execution_count": 1,
   "metadata": {
    "collapsed": false
   },
   "outputs": [],
   "source": [
    "%matplotlib inline"
   ]
  },
  {
   "cell_type": "code",
   "execution_count": 2,
   "metadata": {
    "collapsed": false
   },
   "outputs": [],
   "source": [
    "from __future__ import division\n",
    "from __future__ import print_function\n",
    "import numpy as np\n",
    "from numpy.linalg import norm \n",
    "from math import cos, sin, pi\n",
    "import matplotlib.pyplot as plt"
   ]
  },
  {
   "cell_type": "markdown",
   "metadata": {},
   "source": [
    "## Soccer\n",
    "\n",
    "These types of robots are great for soccer, especially the goalie. Typical configuration are 3 or 4 motors. Omni wheels allow slip perpendicular to the axis."
   ]
  },
  {
   "cell_type": "markdown",
   "metadata": {},
   "source": [
    "Due to these constraints, a holonomic robot which could travel in any direction and immediately change its position and orientation is much more desirable. There are a variety of different wheels which make this type of robot possible such as mecanum or omni wheels.\n",
    "\n",
    "![](pics/omni_wheel.jpg)\n",
    "\n",
    "Omni wheels operate like standard wheels in that the force is produced normal to the motor's axis of rotation and as a result of friction. However, there are a series of smaller wheels which ring the main wheel and allow the wheel to slip in the direction of the motor rotational axis. Note that no force is produced parallel to the motor axis, just slippage."
   ]
  },
  {
   "cell_type": "markdown",
   "metadata": {},
   "source": [
    "## Dynamics\n",
    "\n",
    "![](pics/omni_robot_cs.png)\n",
    "\n",
    "The dynamics for a holonomic robot with 4 omni directional wheels (can be derived using Euler-Largrange ($\\mathcal{L}$) which defines a system's kinectic ($T$) and potential ($V$) energies in relation to a set of generalized coordinates ($q$) and generalized forces ($Q$):\n",
    "\n",
    "\\begin{equation}\n",
    "    \\newcommand{\\dpar}[2]{\\frac{\\partial #1}{\\partial #2}}\n",
    "\\end{equation}\n",
    "\n",
    "\\begin{equation}\n",
    "\t\\mathcal{L}=T-V \\\\\n",
    "\t\\frac{d}{dt} \\left\\{ \\dpar{ \\mathcal{L} }{\\dot q} \\right\\} - \\dpar{ \\mathcal{L} }{q} = Q \\\\\n",
    "\tT = \\frac{1}{2}M v_w^2+ \\frac{1}{2}J \\dot \\psi^2 + \\frac{1}{2} J_w (\\dot \\theta_1^2 + \\dot \\theta_2^2 + \\dot \\theta_3^2 + \\dot \\theta_4^2) \\\\\n",
    "\tV = 0\n",
    "\\end{equation}\n",
    "\n",
    "However, the dynamics must be calculated from an inertial reference frame (${W}$) and take into account the rotating body frame dynamics (${B'}$). Now, assume the body frame is offset from the center of mass (CM) by $x_m$ and $y_m$ which compose a vector $r_m$. Thus the velocity of the robot in the rotating frame would be:\n",
    "\n",
    "\\begin{equation*}\n",
    "\tv_w = v_{B'} + \\dot \\psi \\times r_m \\\\\n",
    "\tv_w = v_{B'} +\n",
    "\t\\begin{bmatrix}\n",
    "\t\t0 & 0 & \\dot \\psi\n",
    "\t\\end{bmatrix}^T\n",
    "\t\\times\n",
    "\t\\begin{bmatrix}\n",
    "\t\tx_m & y_m & 0\n",
    "\t\\end{bmatrix}^T\n",
    "    =\n",
    "\t\\begin{bmatrix}\n",
    "\t\t\\dot x & \\dot y & 0\n",
    "\t\\end{bmatrix}^T +\n",
    "\t\\begin{bmatrix}\n",
    "\t\t-y_m \\dot \\psi & x_m \\dot \\psi & 0\n",
    "\t\\end{bmatrix}^T \\\\\n",
    "\tv_{B'} = \\begin{bmatrix}\n",
    "\t\t\\dot x & \\dot y & 0\n",
    "\t\\end{bmatrix}^T\n",
    "\\end{equation*}\n",
    "\n",
    "where $v_{B'}$ is the speed of the body frame. Now substituting that into\n",
    "the above kinetic energy equation $T$, we get:\n",
    "\n",
    "\\begin{equation}\n",
    "\tT = \\frac{1}{2}M( ( \\dot x - \\dot \\psi y )^2 + (\\dot y + \\dot \\psi x)^2)+ \\dots \\\\\n",
    "\tT = \\frac{1}{2}M( \\dot x^2 - 2 \\dot \\psi y_m \\dot x +\\dot \\psi^2 y_m^2 + \\dot y^2 + 2 \\dot \\psi x_m \\dot y + \\dot \\psi^2 x_m^2)+ \\frac{1}{2}J \\dot \\psi^2 + \\frac{1}{2} J_w (\\dot \\theta_1^2 + \\dot \\theta_2^2 + \\dot \\theta_3^2 + \\dot \\theta_4^2)  \\\\\n",
    "\t\\frac{d}{dt} \\left\\{ \\dpar{ \\mathcal{L} }{\\dot x} \\right\\} = M ( \\ddot x - \\ddot \\psi y - \\dot \\psi \\dot y ) \\hspace{1cm} \\dpar{ \\mathcal{L} }{x} = M(\\dot \\psi \\dot y + \\dot \\psi^2 x) \\\\\n",
    "\t\\frac{d}{dt} \\left\\{ \\dpar{ \\mathcal{L} }{\\dot y} \\right\\} = M (\\ddot y + \\ddot \\psi x + \\dot \\psi \\dot x) \\hspace{1cm} \\dpar{ \\mathcal{L} }{y} = M( -\\dot \\psi \\dot x + \\dot \\psi^2 y) \\\\\n",
    "\t\\frac{d}{dt} \\left\\{ \\dpar{ \\mathcal{L} }{\\dot \\psi} \\right\\} = J \\ddot \\psi \\hspace{1cm} \\dpar{ \\mathcal{L} }{\\phi} = 0 \\\\\n",
    "\t\\frac{d}{dt} \\left\\{ \\dpar{ \\mathcal{L} }{\\dot \\theta} \\right\\} = J_w \\sum \\limits_{i=1}^4 \\ddot \\theta_i \\hspace{1cm} \\dpar{ \\mathcal{L} }{\\theta} = 0\n",
    "\\end{equation}\n",
    "\n",
    "Now we make the following assumptions: ${B'}$ is coincident with\n",
    "${B}$, $x_m = 0$, $y_m = 0$, $\\dot x = v_x$,\n",
    "$\\dot y = v_y$\n",
    "\n",
    "\\begin{equation*}\n",
    "\tF_x = M (\\ddot x - 2 \\dot \\psi \\dot y ) \\\\\n",
    "\tF_y = M (\\ddot y + 2 \\dot \\psi \\dot x) \\\\\n",
    "\tT = J \\ddot \\psi \\\\\n",
    "\t\\tau_w = J_w \\ddot \\theta_1 \\hspace{1cm}\n",
    "\t\\tau_w = J_w \\ddot \\theta_2 \\hspace{1cm}\n",
    "\t\\tau_w = J_w \\ddot \\theta_3 \\hspace{1cm}\n",
    "\t\\tau_w = J_w \\ddot \\theta_4\n",
    "\\end{equation*}\n",
    "\n",
    "\n",
    "\\begin{equation*}\n",
    "\t\\begin{bmatrix}\n",
    "\t\tF_x \\\\\n",
    "\t\tF_y \\\\\n",
    "\t\tT\n",
    "\t\\end{bmatrix} =\n",
    "\t\\begin{bmatrix}\n",
    "\t\tM & 0 & 0 \\\\\n",
    "\t\t0 & M & 0 \\\\\n",
    "\t\t0 & 0 & J\n",
    "\t\\end{bmatrix}\n",
    "\t\\begin{bmatrix}\n",
    "\t\t\\ddot x \\\\\n",
    "\t\t\\ddot y \\\\\n",
    "\t\t\\ddot \\psi\n",
    "\t\\end{bmatrix} +\n",
    "\t\\begin{bmatrix}\n",
    "\t\t0 & -2M \\dot \\psi & 0 \\\\\n",
    "\t\t2M \\dot \\psi & 0 & 0 \\\\\n",
    "\t\t0 & 0 & 0\n",
    "\t\\end{bmatrix}\n",
    "\t\\begin{bmatrix}\n",
    "\t\t\\dot x \\\\\n",
    "\t\t\\dot y \\\\\n",
    "\t\t\\dot \\psi\n",
    "\t\\end{bmatrix}\n",
    "\t= \\mathcal{M} \\ddot X + \\mathcal{O} \\dot X = Q\n",
    "\\end{equation*}"
   ]
  },
  {
   "cell_type": "markdown",
   "metadata": {},
   "source": [
    "## World Coordinates\n",
    "\n",
    "Now the dynamics derived so far are all in the body frame and we could stop\n",
    "here and develop a controller which performs velocity control. However, position\n",
    "control is more useful and a transform needs to be performed to move the\n",
    "velocities and accelerations into the world frame.\n",
    "\n",
    "\\begin{equation}\n",
    "\t\\dot X^W = R_B^W \\dot X^B \\\\\n",
    "\tR_B^W =\n",
    "\t\\begin{bmatrix}\n",
    "\t\t\\cos \\psi & \\sin \\psi & 0 \\\\\n",
    "\t\t-\\sin \\psi & \\cos \\psi & 0 \\\\\n",
    "\t\t0 & 0 & 1\n",
    "\t\\end{bmatrix} \\\\\n",
    "\t\\ddot X^W = \\dot R_B^W \\dot X^B + R_B^W \\ddot X^B \\\\\n",
    "\t\\dot R_B^W =\n",
    "\t\\begin{bmatrix}\n",
    "\t\t\\sin \\psi & -\\cos \\psi & 0 \\\\\n",
    "\t\t\\cos \\psi & \\sin \\psi & 0 \\\\\n",
    "\t\t0 & 0 & 1\n",
    "\t\\end{bmatrix}\n",
    "\\end{equation}\n",
    "\n",
    "Now, substituting this into the dynamics, gives dynamics in the world\n",
    "coordinate system of:\n",
    "\n",
    "\\begin{equation}\n",
    "\tF = \\mathcal{M} (\\dot R \\dot X + R \\ddot X )  + \\mathcal{O} R \\dot X \\\\\n",
    "\tF = \\mathcal{M} R \\ddot X + (\\mathcal{M}  \\dot R + \\mathcal{O} R) \\dot X\n",
    "\\end{equation}"
   ]
  },
  {
   "cell_type": "markdown",
   "metadata": {},
   "source": [
    "## External Forces and Torques\n",
    "\n",
    "![](pics/omni_robot_force_cs.png)\n",
    "\n",
    "Now summing the forces into their body referenced $x$ and $y$ directions and the torque about the $z$ axis, gives us:\n",
    "\n",
    "\\begin{equation}\n",
    "    \\sum F_x=f_1 \\sin(\\phi) - f_2 \\sin(\\phi) - f_3 \\sin(\\phi) + f_4 \\sin(\\phi) \\\\\n",
    "\t\\sum F_y=f_1 \\cos(\\phi) + f_2 \\cos(\\phi) - f_3 \\cos(\\phi) - f_4 \\cos(\\phi) \\\\\n",
    "\t\\sum T=L(f_1+f_2+f_3+f_4)\n",
    "\\end{equation}\n",
    "\n",
    "Additionally, we can simplify this by assuming all of the angles are the same\n",
    "(e.g., $\\phi_1 = \\phi_2 = \\phi_3 = \\phi_4$) and can now put this into a\n",
    "matrix form:\n",
    "\n",
    "\\begin{equation}\n",
    "\t\\begin{bmatrix}\n",
    "\t\tF_x \\\\\n",
    "\t\tF_y \\\\\n",
    "\t\tT\n",
    "\t\\end{bmatrix} =\n",
    "\t\\begin{bmatrix}\n",
    "\t\t\\sin(\\phi) & 0 & 0 \\\\\n",
    "\t\t0 & \\cos(\\phi) & 0 \\\\\n",
    "\t\t0 & 0 & L\n",
    "\t\\end{bmatrix}\n",
    "\t\\begin{bmatrix}\n",
    "\t\t1 & -1 & -1 & 1\\\\\n",
    "\t\t1 & 1 & -1 & -1\\\\\n",
    "\t\t1 & 1 & 1& 1\n",
    "\t\\end{bmatrix}\n",
    "\t\\begin{bmatrix}\n",
    "\t\tf_1 \\\\\n",
    "\t\tf_2 \\\\\n",
    "\t\tf_3 \\\\\n",
    "\t\tf_4\n",
    "\t\\end{bmatrix}\n",
    "\\end{equation}\n",
    "\n",
    "where $\\phi$ is again the angle of the motors, $f_i$ is the magnitude of the force produced by the motors, and $L$ is the radius of the robot.\n",
    "\n",
    "where $pinv()$ is defined as the pseudoinverse since $A(\\phi)$ is not a square matrix. Finally, substituting these into the original equation, we can calculate the torques given the desired accelerations.\n",
    "\n",
    "\\begin{equation}\n",
    "\t\\begin{bmatrix} \\tau_1 \\\\  \\tau_2 \\\\  \\tau_3 \\\\  \\tau_4 \\end{bmatrix} = \\frac {M r_w} {4}\n",
    "\t\\begin{bmatrix}\n",
    "\t\t-1 & 1 & 1 \\\\\n",
    "\t\t-1 & -1 & 1 \\\\\n",
    "\t\t1 & -1 & 1 \\\\\n",
    "\t\t1 & 1 & 1\n",
    "\t\\end{bmatrix}\n",
    "\t\\begin{bmatrix}\n",
    "\t\t\\frac{1}{\\sin(\\phi)} & 0 & 0 \\\\\n",
    "\t\t0 & \\frac{1}{\\cos(\\phi)} & 0 \\\\\n",
    "\t\t0 & 0 & \\frac{1}{2}\n",
    "\t\\end{bmatrix}\n",
    "\t\\begin{bmatrix}\n",
    "\t\ta_x \\\\\n",
    "\t\ta_y \\\\\n",
    "\t\tR \\dot \\omega\n",
    "\t\\end{bmatrix}\n",
    "\\end{equation}\n",
    "\n",
    "Now looking at this equation, we notice that $\\phi$ can not be equal to 0, 90, 180, 270, or 360 otherwise we get a singularity in the $A(\\phi)$ matrix. This however is not an issue in the real world, since the motors would occupy the same physical space and the robot would essentially only have 2 and not 4 motors."
   ]
  },
  {
   "cell_type": "markdown",
   "metadata": {},
   "source": [
    "## Holonomic Robot Kinematics\n",
    "\n",
    "Number of equivalent motors for any direction under linear movement only, no rotational movement allowed.\n",
    "\n",
    "Now performing a similar exercise for what was done with the dynamics, looking\n",
    "at $coordinate$, the velocity of motor 1is given by\n",
    "$v_1 = -\\sin(\\phi) v_x + \\cos(\\phi) v_y + R \\omega$. Performing this for\n",
    "each wheel gives:\n",
    "\n",
    "\\begin{equation}\n",
    "\t\\begin{bmatrix}\n",
    "\t\tv_1 \\\\\n",
    "\t\tv_2 \\\\\n",
    "\t\tv_3 \\\\\n",
    "\t\tv_4\n",
    "\t\\end{bmatrix} =\n",
    "\t\\begin{bmatrix}\n",
    "\t\t-\\sin(\\phi)  & \\cos(\\phi) & L \\\\\n",
    "\t\t-\\sin(\\phi) & -\\cos(\\phi) & L \\\\\n",
    "\t\t \\sin(\\phi) & -\\cos(\\phi) & L \\\\\n",
    "\t\t \\sin(\\phi)  & \\cos(\\phi) & L\n",
    "\t\\end{bmatrix}\n",
    "\t\\begin{bmatrix}\n",
    "\t\tv_x \\\\\n",
    "\t\tv_y \\\\\n",
    "\t\t\\omega\n",
    "\t\\end{bmatrix} =\n",
    "\t\\begin{bmatrix}\n",
    "\t\t-1 & 1 & 1 \\\\\n",
    "\t\t-1 & -1 & 1 \\\\\n",
    "\t\t1 & -1 & 1 \\\\\n",
    "\t\t1 & 1 & 1\n",
    "\t\\end{bmatrix}\n",
    "\t\\begin{bmatrix}\n",
    "\t\t\\sin(\\phi) & 0 & 0 \\\\\n",
    "\t\t0 & \\cos(\\phi) & 0 \\\\\n",
    "\t\t0 & 0 & L\n",
    "\t\\end{bmatrix}\n",
    "\t\\begin{bmatrix}\n",
    "\t\tv_x \\\\\n",
    "\t\tv_y \\\\\n",
    "\t\t\\omega\n",
    "\t\\end{bmatrix}\n",
    "\\end{equation}\n",
    "\n",
    "Now setting $\\omega$ to zero and calculating only linear movement, we can\n",
    "determine the number of equivalent motors as shown in\n",
    "\\figref{fig:equivalent_motors}. For example, setting\n",
    "$\\phi$ to 30 $^\\circ$ (the red line in \\figref{fig:equivalent_motors})\n",
    "and traveling in the x direction only ($\\begin{bmatrix} v_x & v_y & \\omega \\end{bmatrix}^T = \\begin{bmatrix}1& 0 & 0 \\end{bmatrix}^T$),\n",
    "the above equation simplifies to $4 \\sin(30)$ or 2 equivalent motors.\n",
    "Repeating for the y direction results in $4 \\cos(30)$ or 3.46 equivalent\n",
    "motors.\n",
    "\n",
    "Now it is interesting to note that when $\\phi$ is set to 30 $^\\circ$,\n",
    "the robot has more equivalent motors when going forward or backwards, while a\n",
    "$\\phi$ of 60 $^\\circ$ provides more equivalent motors moving left or right.\n",
    "When the motors are are angled at 45 $^\\circ$, movement is clearly equally\n",
    "optimized for both forward/backwards and left/right ( $2 \\sin(45)$ is 2.83 motors)\n",
    "movement.\n",
    "\n",
    "\\figref{fig:equivalent_motors} tells us that no mater how the 4 motors are\n",
    "oriented in a realistic configuration, the robot will never have the equivalent\n",
    "use of all 4 motors. Movement in one direction or another can be optimized, but\n",
    "then a sacrifice is made in another direction. This fact is intuitively obvious.\n",
    "\n",
    "Another issue is these results are also ideal. This logic assumes that the wheels\n",
    "will not slip and have good traction in any orientation. Unfortunately real world\n",
    "results do not mimic this situation and the robot's performance will be reduced.\n"
   ]
  },
  {
   "cell_type": "markdown",
   "metadata": {},
   "source": [
    "## Equvilent Motors\n",
    "\n",
    "Since this robot has 4 motors with omni wheels, in certain configurations, you can get more power/speed in certain directions than others. Let's look at a configuration with the wheels oriented at the $\\phi$ angles of: 30, 45, and 60 degrees."
   ]
  },
  {
   "cell_type": "code",
   "execution_count": 61,
   "metadata": {
    "collapsed": false
   },
   "outputs": [],
   "source": [
    "def motors(phi, angles):\n",
    "    \"\"\"\n",
    "    in:\n",
    "        phi - orientation of motors\n",
    "        angles - array of angles from 0 ... 2*pi\n",
    "    out:\n",
    "        array of results\n",
    "    \"\"\"\n",
    "    phi = phi*pi/180\n",
    "    ans = []\n",
    "    for angle in angles:\n",
    "        a = np.array([\n",
    "                [-sin(phi),  cos(phi), 1.0],\n",
    "                [-sin(phi), -cos(phi), 1.0],\n",
    "                [ sin(phi), -cos(phi), 1.0],\n",
    "                [ sin(phi),  cos(phi), 1.0]\n",
    "            ])\n",
    "        b = np.array([\n",
    "                cos(angle),\n",
    "                sin(angle),\n",
    "                0.0\n",
    "            ])\n",
    "        v = sum(abs(a.dot(b)))\n",
    "        ans.append(v)\n",
    "    return ans"
   ]
  },
  {
   "cell_type": "code",
   "execution_count": 59,
   "metadata": {
    "collapsed": false
   },
   "outputs": [],
   "source": [
    "theta = np.arange(0,2*pi,0.1)\n",
    "em30 = motors(30, theta)\n",
    "em45 = motors(45, theta)\n",
    "em60 = motors(60, theta)"
   ]
  },
  {
   "cell_type": "code",
   "execution_count": 60,
   "metadata": {
    "collapsed": false
   },
   "outputs": [
    {
     "data": {
      "image/png": "[encoded data removed]",
      "text/plain": [
       "<matplotlib.figure.Figure at 0x10dccc8d0>"
      ]
     },
     "metadata": {},
     "output_type": "display_data"
    }
   ],
   "source": [
    "plt.polar(theta, em30, label='30');\n",
    "plt.polar(theta, em45, label='45');\n",
    "plt.polar(theta, em60, label='60');\n",
    "plt.grid(True)\n",
    "plt.legend(loc='upper left');"
   ]
  },
  {
   "cell_type": "markdown",
   "metadata": {},
   "source": [
    "As seen above, 30 and 60 degrees orientations favor certain directions. However, 45 degrees is better in all directions and all around movement."
   ]
  },
  {
   "cell_type": "markdown",
   "metadata": {
    "collapsed": false
   },
   "source": [
    "## Control\n",
    "\n",
    "![](pics/omni_wheel_control.png)\n",
    "\n",
    "Using the equations above to transform desired movement into motor actions, the robot can move in any direction. A basic summery of robot movement to motor direction is shown above."
   ]
  },
  {
   "cell_type": "markdown",
   "metadata": {
    "collapsed": false
   },
   "source": [
    "# References\n",
    "\n",
    "---\n",
    "\n",
    "* Alexander Gloye, Raul Rojas, Holonomic Control of a Robot with an Omnidirectional Drive, accepted for publication by Künstliche Intelligenz, Springer-Verlag, 2006.\n",
    "\n",
    "* http://en.wikipedia.org/wiki/Non-holonomic_system\n",
    "\n",
    "* http://en.wikipedia.org/wiki/Lagrangian_mechanics\n",
    "\n",
    "* http://www.kornylak.com\n",
    "\n",
    "* R. Balakrishna, Ashitava Ghosal, \"Modeling of Slip for Wheeled Mobile Robots,\" lEEE TRANSACTIONS ON ROBOTICS AND AUTOMATION, VOL. I I , NO. I , FEBRUARY 1995, pp. 126-132\n",
    "\n",
    "* J. Agullo, S. Cardona, and J. Vivancos, “Kinematics of vehicles with directional sliding wheels,” Mechanisms and Muchine Theory, vol. 22, no. 4, pp. 295-301, 1987.\n",
    "\n",
    "* Pseudoinverse: for m > n: $A_{left}^{-1}=(A^TA)^{-1}A^T$ or m < n: $A_{right}^{-1} = A^T(AA^T)^{-1}$ such that $AA^{-1}=I$ or $A^{-1}A=I$\n",
    "\n",
    "* Masayoshi Wada (2010). Motion Control of a Four-wheel-drive Omnidirectional Wheelchair with High Step Climbing Capability, Climbing and Walking Robots, Behnam Miripour (Ed.), ISBN: 978-953-307-030-8, [InTech](http://www.intechopen.com/books/climbing-and-walking-robots/motion-control-of-a-four-wheeldrive-omnidirectional-wheelchair-with-high-step-climbing-capability)"
   ]
  },
  {
   "cell_type": "markdown",
   "metadata": {},
   "source": [
    "-----------\n",
    "\n",
    "<a rel=\"license\" href=\"http://creativecommons.org/licenses/by-sa/4.0/\"><img alt=\"Creative Commons License\" style=\"border-width:0\" src=\"https://i.creativecommons.org/l/by-sa/4.0/88x31.png\" /></a><br />This work is licensed under a <a rel=\"license\" href=\"http://creativecommons.org/licenses/by-sa/4.0/\">Creative Commons Attribution-ShareAlike 4.0 International License</a>."
   ]
  }
 ],
 "metadata": {
  "kernelspec": {
   "display_name": "Python 2",
   "language": "python",
   "name": "python2"
  },
  "language_info": {
   "codemirror_mode": {
    "name": "ipython",
    "version": 2
   },
   "file_extension": ".py",
   "mimetype": "text/x-python",
   "name": "python",
   "nbconvert_exporter": "python",
   "pygments_lexer": "ipython2",
   "version": "2.7.13"
  }
 },
 "nbformat": 4,
 "nbformat_minor": 0
}
